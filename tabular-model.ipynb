{
 "cells": [
  {
   "cell_type": "markdown",
   "id": "98457ea2-d519-4906-a72f-52a3fe2a5bbb",
   "metadata": {},
   "source": [
    "# AutoML tabular classification"
   ]
  },
  {
   "cell_type": "markdown",
   "id": "c779c337-a5c4-4d4c-8158-02e51398bea3",
   "metadata": {},
   "source": [
    "## Create the dataset (UI)\n",
    "\n",
    "1. Download the CSV from Kaggle.\n",
    "2. Upload the CSV to Cloud Storage.\n",
    "3. Create the dataset."
   ]
  },
  {
   "cell_type": "markdown",
   "id": "9271412a-e985-4dc0-bc85-7d1acf4a8cce",
   "metadata": {},
   "source": [
    "## Train the model (UI)\n",
    "\n",
    "1. Review the dataset\n",
    "2. Pick the features that we want to include.\n",
    "3. Train the model"
   ]
  },
  {
   "cell_type": "markdown",
   "id": "389a25cc-d1b7-46bb-995f-87f6926af7e0",
   "metadata": {},
   "source": [
    "# Get a prediction (UI)\n",
    "\n",
    "1. Create an endpoint (UI)\n",
    "1. Deploy to the endpoint (UI)\n",
    "2. Get a prediction! (UI)"
   ]
  },
  {
   "cell_type": "markdown",
   "id": "dd10d0ee-1204-43c3-ac39-565fd88d14c6",
   "metadata": {},
   "source": [
    "## Get a prediction (API)"
   ]
  },
  {
   "cell_type": "code",
   "execution_count": 2,
   "id": "ffb5dc1b-5361-49bc-bf04-ca09266d402e",
   "metadata": {
    "collapsed": true,
    "jupyter": {
     "outputs_hidden": true
    },
    "tags": []
   },
   "outputs": [
    {
     "name": "stdout",
     "output_type": "stream",
     "text": [
      "Requirement already satisfied: google-cloud-aiplatform in /opt/conda/lib/python3.7/site-packages (1.3.0)\n",
      "Requirement already satisfied: google-api-core[grpc]<3.0.0dev,>=1.26.0 in /opt/conda/lib/python3.7/site-packages (from google-cloud-aiplatform) (1.31.5)\n",
      "Requirement already satisfied: packaging>=14.3 in /opt/conda/lib/python3.7/site-packages (from google-cloud-aiplatform) (21.3)\n",
      "Requirement already satisfied: proto-plus>=1.10.1 in /opt/conda/lib/python3.7/site-packages (from google-cloud-aiplatform) (1.19.9)\n",
      "Requirement already satisfied: google-cloud-storage<2.0.0dev,>=1.32.0 in /opt/conda/lib/python3.7/site-packages (from google-cloud-aiplatform) (1.44.0)\n",
      "Requirement already satisfied: google-cloud-bigquery<3.0.0dev,>=1.15.0 in /opt/conda/lib/python3.7/site-packages (from google-cloud-aiplatform) (2.32.0)\n",
      "Requirement already satisfied: pytz in /opt/conda/lib/python3.7/site-packages (from google-api-core[grpc]<3.0.0dev,>=1.26.0->google-cloud-aiplatform) (2021.3)\n",
      "Requirement already satisfied: protobuf>=3.12.0 in /opt/conda/lib/python3.7/site-packages (from google-api-core[grpc]<3.0.0dev,>=1.26.0->google-cloud-aiplatform) (3.19.4)\n",
      "Requirement already satisfied: googleapis-common-protos<2.0dev,>=1.6.0 in /opt/conda/lib/python3.7/site-packages (from google-api-core[grpc]<3.0.0dev,>=1.26.0->google-cloud-aiplatform) (1.54.0)\n",
      "Requirement already satisfied: requests<3.0.0dev,>=2.18.0 in /opt/conda/lib/python3.7/site-packages (from google-api-core[grpc]<3.0.0dev,>=1.26.0->google-cloud-aiplatform) (2.27.1)\n",
      "Requirement already satisfied: setuptools>=40.3.0 in /opt/conda/lib/python3.7/site-packages (from google-api-core[grpc]<3.0.0dev,>=1.26.0->google-cloud-aiplatform) (59.8.0)\n",
      "Requirement already satisfied: google-auth<2.0dev,>=1.25.0 in /opt/conda/lib/python3.7/site-packages (from google-api-core[grpc]<3.0.0dev,>=1.26.0->google-cloud-aiplatform) (1.35.0)\n",
      "Requirement already satisfied: six>=1.13.0 in /opt/conda/lib/python3.7/site-packages (from google-api-core[grpc]<3.0.0dev,>=1.26.0->google-cloud-aiplatform) (1.16.0)\n",
      "Requirement already satisfied: grpcio<2.0dev,>=1.29.0 in /opt/conda/lib/python3.7/site-packages (from google-api-core[grpc]<3.0.0dev,>=1.26.0->google-cloud-aiplatform) (1.43.0)\n",
      "Requirement already satisfied: python-dateutil<3.0dev,>=2.7.2 in /opt/conda/lib/python3.7/site-packages (from google-cloud-bigquery<3.0.0dev,>=1.15.0->google-cloud-aiplatform) (2.8.2)\n",
      "Requirement already satisfied: google-resumable-media<3.0dev,>=0.6.0 in /opt/conda/lib/python3.7/site-packages (from google-cloud-bigquery<3.0.0dev,>=1.15.0->google-cloud-aiplatform) (2.1.0)\n",
      "Requirement already satisfied: google-cloud-core<3.0.0dev,>=1.4.1 in /opt/conda/lib/python3.7/site-packages (from google-cloud-bigquery<3.0.0dev,>=1.15.0->google-cloud-aiplatform) (2.2.2)\n",
      "Requirement already satisfied: pyparsing!=3.0.5,>=2.0.2 in /opt/conda/lib/python3.7/site-packages (from packaging>=14.3->google-cloud-aiplatform) (3.0.7)\n",
      "Requirement already satisfied: rsa<5,>=3.1.4 in /opt/conda/lib/python3.7/site-packages (from google-auth<2.0dev,>=1.25.0->google-api-core[grpc]<3.0.0dev,>=1.26.0->google-cloud-aiplatform) (4.8)\n",
      "Requirement already satisfied: pyasn1-modules>=0.2.1 in /opt/conda/lib/python3.7/site-packages (from google-auth<2.0dev,>=1.25.0->google-api-core[grpc]<3.0.0dev,>=1.26.0->google-cloud-aiplatform) (0.2.7)\n",
      "Requirement already satisfied: cachetools<5.0,>=2.0.0 in /opt/conda/lib/python3.7/site-packages (from google-auth<2.0dev,>=1.25.0->google-api-core[grpc]<3.0.0dev,>=1.26.0->google-cloud-aiplatform) (4.2.4)\n",
      "Requirement already satisfied: google-crc32c<2.0dev,>=1.0 in /opt/conda/lib/python3.7/site-packages (from google-resumable-media<3.0dev,>=0.6.0->google-cloud-bigquery<3.0.0dev,>=1.15.0->google-cloud-aiplatform) (1.1.2)\n",
      "Requirement already satisfied: idna<4,>=2.5 in /opt/conda/lib/python3.7/site-packages (from requests<3.0.0dev,>=2.18.0->google-api-core[grpc]<3.0.0dev,>=1.26.0->google-cloud-aiplatform) (3.3)\n",
      "Requirement already satisfied: urllib3<1.27,>=1.21.1 in /opt/conda/lib/python3.7/site-packages (from requests<3.0.0dev,>=2.18.0->google-api-core[grpc]<3.0.0dev,>=1.26.0->google-cloud-aiplatform) (1.26.8)\n",
      "Requirement already satisfied: certifi>=2017.4.17 in /opt/conda/lib/python3.7/site-packages (from requests<3.0.0dev,>=2.18.0->google-api-core[grpc]<3.0.0dev,>=1.26.0->google-cloud-aiplatform) (2021.10.8)\n",
      "Requirement already satisfied: charset-normalizer~=2.0.0 in /opt/conda/lib/python3.7/site-packages (from requests<3.0.0dev,>=2.18.0->google-api-core[grpc]<3.0.0dev,>=1.26.0->google-cloud-aiplatform) (2.0.11)\n",
      "Requirement already satisfied: cffi>=1.0.0 in /opt/conda/lib/python3.7/site-packages (from google-crc32c<2.0dev,>=1.0->google-resumable-media<3.0dev,>=0.6.0->google-cloud-bigquery<3.0.0dev,>=1.15.0->google-cloud-aiplatform) (1.15.0)\n",
      "Requirement already satisfied: pyasn1<0.5.0,>=0.4.6 in /opt/conda/lib/python3.7/site-packages (from pyasn1-modules>=0.2.1->google-auth<2.0dev,>=1.25.0->google-api-core[grpc]<3.0.0dev,>=1.26.0->google-cloud-aiplatform) (0.4.8)\n",
      "Requirement already satisfied: pycparser in /opt/conda/lib/python3.7/site-packages (from cffi>=1.0.0->google-crc32c<2.0dev,>=1.0->google-resumable-media<3.0dev,>=0.6.0->google-cloud-bigquery<3.0.0dev,>=1.15.0->google-cloud-aiplatform) (2.21)\n"
     ]
    }
   ],
   "source": [
    "! pip install google-cloud-aiplatform"
   ]
  },
  {
   "cell_type": "code",
   "execution_count": 9,
   "id": "4ba8bc8e-b314-4679-891d-099cd2ee2bf9",
   "metadata": {},
   "outputs": [],
   "source": [
    "from google.cloud import aiplatform as aip\n",
    "\n",
    "PROJECT_ID = !gcloud config get-value project\n",
    "PROJECT_ID = PROJECT_ID[0]\n",
    "\n",
    "aip.init(project=PROJECT_ID, location=\"us-central1\")\n",
    "\n",
    "model = aip.Model(model_name=f\"projects/{PROJECT_ID}/locations/us-central1/models/5357845395361759232\")"
   ]
  },
  {
   "cell_type": "code",
   "execution_count": 6,
   "id": "d4b6829d-a4a3-407b-9b66-e8600f5f247f",
   "metadata": {},
   "outputs": [
    {
     "name": "stdout",
     "output_type": "stream",
     "text": [
      "INFO:google.cloud.aiplatform.models:Creating Endpoint\n",
      "INFO:google.cloud.aiplatform.models:Create Endpoint backing LRO: projects/1017734441775/locations/us-central1/endpoints/5324706114900590592/operations/3474356207177695232\n",
      "INFO:google.cloud.aiplatform.models:Endpoint created. Resource name: projects/1017734441775/locations/us-central1/endpoints/5324706114900590592\n",
      "INFO:google.cloud.aiplatform.models:To use this Endpoint in another session:\n",
      "INFO:google.cloud.aiplatform.models:endpoint = aiplatform.Endpoint('projects/1017734441775/locations/us-central1/endpoints/5324706114900590592')\n",
      "INFO:google.cloud.aiplatform.models:Deploying model to Endpoint : projects/1017734441775/locations/us-central1/endpoints/5324706114900590592\n",
      "INFO:google.cloud.aiplatform.models:Deploy Endpoint model backing LRO: projects/1017734441775/locations/us-central1/endpoints/5324706114900590592/operations/6217048380246327296\n",
      "INFO:google.cloud.aiplatform.models:Endpoint model deployed. Resource name: projects/1017734441775/locations/us-central1/endpoints/5324706114900590592\n"
     ]
    }
   ],
   "source": [
    "endpoint = model.deploy(\n",
    "    machine_type=\"n1-standard-4\",\n",
    ")"
   ]
  },
  {
   "cell_type": "code",
   "execution_count": 10,
   "id": "a13724b3-c7b3-431e-9200-c5a9f2be1ff8",
   "metadata": {},
   "outputs": [],
   "source": [
    "endpoint = aip.Endpoint(endpoint_name=f\"projects/{PROJECT_ID}/locations/us-central1/endpoints/5324706114900590592\")"
   ]
  },
  {
   "cell_type": "code",
   "execution_count": 12,
   "id": "0287d55c-160c-4287-9da3-ba9c81224472",
   "metadata": {},
   "outputs": [],
   "source": [
    "response = endpoint.predict(\n",
    "    [\n",
    "        {\n",
    "            \"title\": \"Foo!\",\n",
    "            \"console\": \"0\",\n",
    "            \"alcohol_reference\": \"0\",\n",
    "            \"animated_blood\": \"0\",\n",
    "            \"blood\": \"1\", # Marked true\n",
    "            \"blood_and_gore\": \"0\",\n",
    "            \"cartoon_violence\": \"0\",\n",
    "            \"crude_humor\": \"0\",\n",
    "            \"drug_reference\": \"0\",\n",
    "            \"fantasy_violence\": \"0\",\n",
    "            \"intense_violence\": \"0\",\n",
    "            \"language\": \"0\",\n",
    "            \"lyrics\": \"0\",\n",
    "            \"mature_humor\": \"0\",\n",
    "            \"mild_blood\": \"0\",\n",
    "            \"mild_cartoon_violence\": \"0\",\n",
    "            \"mild_fantasy_violence\": \"0\",\n",
    "            \"mild_language\": \"0\",\n",
    "            \"mild_lyrics\": \"0\",\n",
    "            \"mild_suggestive_themes\": \"0\",\n",
    "            \"mild_violence\": \"0\",\n",
    "            \"no_descriptors\": \"0\",\n",
    "            \"nudity\": \"0\",\n",
    "            \"partial_nudity\": \"0\",\n",
    "            \"sexual_content\": \"0\",\n",
    "            \"sexual_themes\": \"0\",\n",
    "            \"simulated_gambling\": \"0\",\n",
    "            \"strong_janguage\": \"0\",\n",
    "            \"strong_sexual_content\": \"0\",\n",
    "            \"suggestive_themes\": \"0\",\n",
    "            \"use_of_alcohol\": \"0\",\n",
    "            \"use_of_drugs_and_alcohol\": \"0\",\n",
    "            \"violence\": \"0\"\n",
    "        }\n",
    "    ]    \n",
    ")"
   ]
  },
  {
   "cell_type": "code",
   "execution_count": 13,
   "id": "368c0d28-4142-4fe6-96fd-e4b2ffcf0f2a",
   "metadata": {},
   "outputs": [
    {
     "name": "stdout",
     "output_type": "stream",
     "text": [
      "Prediction(predictions=[{'classes': ['T', 'E', 'ET', 'M'], 'scores': [0.9040566682815552, 0.002633506897836924, 0.001368336612358689, 0.09194140881299973]}], deployed_model_id='7910458396266987520', explanations=None)\n",
      "{'classes': ['T', 'E', 'ET', 'M'], 'scores': [0.9040566682815552, 0.002633506897836924, 0.001368336612358689, 0.09194140881299973]}\n",
      "T: 0.9040566682815552\n",
      "E: 0.002633506897836924\n",
      "ET: 0.001368336612358689\n",
      "M: 0.09194140881299973\n"
     ]
    }
   ],
   "source": [
    "print(response)\n",
    "for prediction_ in response.predictions:\n",
    "    print(prediction_)\n",
    "    scores = prediction_[\"scores\"]\n",
    "    classes = prediction_[\"classes\"]\n",
    "    for count, cls_ in enumerate(classes):\n",
    "        print(f\"{cls_}: {scores[count]}\")"
   ]
  },
  {
   "cell_type": "code",
   "execution_count": null,
   "id": "1aa5ae12-60ae-4cfd-a0b0-e89d5ba70fe1",
   "metadata": {},
   "outputs": [],
   "source": []
  }
 ],
 "metadata": {
  "environment": {
   "kernel": "python3",
   "name": "tf2-gpu.2-6.m89",
   "type": "gcloud",
   "uri": "gcr.io/deeplearning-platform-release/tf2-gpu.2-6:m89"
  },
  "kernelspec": {
   "display_name": "Python 3",
   "language": "python",
   "name": "python3"
  },
  "language_info": {
   "codemirror_mode": {
    "name": "ipython",
    "version": 3
   },
   "file_extension": ".py",
   "mimetype": "text/x-python",
   "name": "python",
   "nbconvert_exporter": "python",
   "pygments_lexer": "ipython3",
   "version": "3.7.12"
  }
 },
 "nbformat": 4,
 "nbformat_minor": 5
}

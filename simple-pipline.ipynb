{
 "cells": [
  {
   "cell_type": "markdown",
   "id": "cb7edf2d-1e36-46ea-b4c4-379656211d2e",
   "metadata": {},
   "source": [
    "# Create an image classification pipeline"
   ]
  },
  {
   "cell_type": "markdown",
   "id": "b67b9662-8bf1-4efd-8157-e6e8257503d3",
   "metadata": {},
   "source": [
    "This notebook was written in Jupyter notebooks on the Vertex AI Workbench. You may need to adjust the code to run it in other contexts (e.g. Colab). The code here is the pipeline version of the model created in \"image-classification.ipynb.\"\n",
    "\n",
    "**Important:** Using Vertex AI can run up significant costs. Be sure to estimate your resource usage before running these notebooks.\n",
    "\n",
    "You can find the dataset used in this model on [Kaggle.com](https://www.kaggle.com/abhinavnayak/catsvdogs-transformed).\n"
   ]
  },
  {
   "cell_type": "markdown",
   "id": "2c105fe8-72c7-4962-90a5-02b0aefd9fa3",
   "metadata": {},
   "source": [
    "## Install libraries, import libraries, set constants"
   ]
  },
  {
   "cell_type": "code",
   "execution_count": null,
   "id": "6d4b4806-de6e-4716-a3ac-d6d40698154b",
   "metadata": {
    "collapsed": true,
    "jupyter": {
     "outputs_hidden": true
    },
    "tags": []
   },
   "outputs": [],
   "source": [
    "! pip install google-cloud-aiplatform==1.3.0 kfp  google-cloud-pipeline-components"
   ]
  },
  {
   "cell_type": "code",
   "execution_count": 24,
   "id": "f98c5ef0-b43d-4575-9316-5522c934128b",
   "metadata": {
    "tags": []
   },
   "outputs": [
    {
     "name": "stdout",
     "output_type": "stream",
     "text": [
      "aggie-data-science-demo\n"
     ]
    }
   ],
   "source": [
    "import kfp\n",
    "from google.cloud import aiplatform\n",
    "from google_cloud_pipeline_components import aiplatform as gcc_aip\n",
    "\n",
    "PROJECT_ID = !gcloud config get-value project\n",
    "PROJECT_ID = PROJECT_ID[0]\n",
    "\n",
    "print(PROJECT_ID)\n",
    "\n",
    "project_id = PROJECT_ID\n",
    "pipeline_root_path = \"gs://2022-03-01-aggie-demo/pipeline_root\""
   ]
  },
  {
   "cell_type": "markdown",
   "id": "1c7d100e-73df-4a9c-b12e-3a74e0620ee9",
   "metadata": {},
   "source": [
    "## Define the pipeline"
   ]
  },
  {
   "cell_type": "code",
   "execution_count": 31,
   "id": "0ea3cd8a-b468-4ebd-a766-07688ef0ff9a",
   "metadata": {},
   "outputs": [],
   "source": [
    "# Define the workflow of the pipeline.\n",
    "@kfp.dsl.pipeline(name=\"automl-image-training\")\n",
    "def pipeline(project_id: str = PROJECT_ID):\n",
    "    ds_op = gcc_aip.ImageDatasetCreateOp(\n",
    "        project=project_id,\n",
    "        display_name=\"pipeline-cat-or-dog-ds\",\n",
    "        gcs_source=\"gs://2022-03-01-aggie-demo/training_data.jsonl\",\n",
    "        import_schema_uri=aiplatform.schema.dataset.ioformat.image.single_label_classification,\n",
    "    )\n",
    "\n",
    "    training_job_run_op = gcc_aip.AutoMLImageTrainingJobRunOp(\n",
    "        project=project_id,\n",
    "        display_name=\"pipeline-cat-or-dog-pipeline\",\n",
    "        prediction_type=\"classification\",\n",
    "        model_type=\"CLOUD\",\n",
    "        dataset=ds_op.outputs[\"dataset\"],\n",
    "        model_display_name=\"pipeline-cat-or-dog-model\",\n",
    "        budget_milli_node_hours=8000,\n",
    "        multi_label=False,\n",
    "    )\n",
    "\n",
    "    create_endpoint_op = gcc_aip.EndpointCreateOp(\n",
    "        project=project_id,\n",
    "        display_name = \"pipeline-cat-or-dog-endpoint\",\n",
    "    )\n",
    "\n",
    "    model_deploy_op = gcc_aip.ModelDeployOp(\n",
    "        model=training_job_run_op.outputs[\"model\"],\n",
    "        endpoint=create_endpoint_op.outputs['endpoint'],\n",
    "        automatic_resources_min_replica_count=1,\n",
    "        automatic_resources_max_replica_count=1,\n",
    "    )"
   ]
  },
  {
   "cell_type": "code",
   "execution_count": 32,
   "id": "ccf33197-85ff-4f16-a87d-8623cb67139e",
   "metadata": {},
   "outputs": [],
   "source": [
    "from kfp.v2 import compiler  # noqa: F811\n",
    "compiler.Compiler().compile(pipeline_func=pipeline, package_path='image_classification.json')"
   ]
  },
  {
   "cell_type": "code",
   "execution_count": null,
   "id": "c9ae3d4f-d55e-4a2a-9839-24735b6beacd",
   "metadata": {},
   "outputs": [],
   "source": [
    "from kfp.v2.google.client import AIPlatformClient\n",
    "api_client = AIPlatformClient(project_id=PROJECT_ID, region=\"us-central1\")\n",
    "response = api_client.create_run_from_job_spec(\n",
    "    \"image_classification.json\",\n",
    "    pipeline_root=pipeline_root_path,\n",
    "    parameter_values={\"project_id\": PROJECT_ID},\n",
    ")"
   ]
  }
 ],
 "metadata": {
  "environment": {
   "kernel": "python3",
   "name": "tf2-gpu.2-6.m89",
   "type": "gcloud",
   "uri": "gcr.io/deeplearning-platform-release/tf2-gpu.2-6:m89"
  },
  "kernelspec": {
   "display_name": "Python 3",
   "language": "python",
   "name": "python3"
  },
  "language_info": {
   "codemirror_mode": {
    "name": "ipython",
    "version": 3
   },
   "file_extension": ".py",
   "mimetype": "text/x-python",
   "name": "python",
   "nbconvert_exporter": "python",
   "pygments_lexer": "ipython3",
   "version": "3.7.12"
  }
 },
 "nbformat": 4,
 "nbformat_minor": 5
}

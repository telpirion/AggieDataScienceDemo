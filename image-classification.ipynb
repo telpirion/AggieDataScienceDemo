{
 "cells": [
  {
   "cell_type": "markdown",
   "id": "90014002-4001-4855-8274-7976f1ca086c",
   "metadata": {},
   "source": [
    "# AutoML image classification model\n"
   ]
  },
  {
   "cell_type": "markdown",
   "id": "18e713dc-1a76-4f97-8d78-ef7e45b6c3a2",
   "metadata": {},
   "source": [
    "This notebook was written in Jupyter notebooks on the Vertex AI Workbench. You may need to adjust the code to run it in other contexts (e.g. Colab).\n",
    "\n",
    "**Important:** Using Vertex AI can run up significant costs. Be sure to estimate your resource usage before running these notebooks.\n",
    "\n",
    "You can find the dataset used in this model on [Kaggle.com](https://www.kaggle.com/abhinavnayak/catsvdogs-transformed).\n"
   ]
  },
  {
   "cell_type": "markdown",
   "id": "09b530bd-244d-457a-aae4-b2cd7a563b3b",
   "metadata": {
    "tags": []
   },
   "source": [
    "## Install libraries, import libraries, initialize AI Platform"
   ]
  },
  {
   "cell_type": "code",
   "execution_count": 1,
   "id": "a8e32169-e12a-4c99-a6e5-5c693635cfa2",
   "metadata": {},
   "outputs": [
    {
     "name": "stdout",
     "output_type": "stream",
     "text": [
      "Requirement already satisfied: google-cloud-aiplatform in /opt/conda/lib/python3.7/site-packages (1.9.0)\n",
      "Requirement already satisfied: google-cloud-storage in /opt/conda/lib/python3.7/site-packages (2.0.0)\n",
      "Collecting google-cloud-storage\n",
      "  Downloading google_cloud_storage-1.44.0-py2.py3-none-any.whl (106 kB)\n",
      "\u001b[2K     \u001b[90m━━━━━━━━━━━━━━━━━━━━━━━━━━━━━━━━━━━━━━━\u001b[0m \u001b[32m106.8/106.8 KB\u001b[0m \u001b[31m2.6 MB/s\u001b[0m eta \u001b[36m0:00:00\u001b[0ma \u001b[36m0:00:01\u001b[0m\n",
      "\u001b[?25hRequirement already satisfied: google-api-core[grpc]<3.0.0dev,>=1.26.0 in /opt/conda/lib/python3.7/site-packages (from google-cloud-aiplatform) (2.4.0)\n",
      "Requirement already satisfied: google-cloud-bigquery<3.0.0dev,>=1.15.0 in /opt/conda/lib/python3.7/site-packages (from google-cloud-aiplatform) (2.32.0)\n",
      "Requirement already satisfied: packaging>=14.3 in /opt/conda/lib/python3.7/site-packages (from google-cloud-aiplatform) (21.3)\n",
      "Requirement already satisfied: proto-plus>=1.10.1 in /opt/conda/lib/python3.7/site-packages (from google-cloud-aiplatform) (1.19.9)\n",
      "Requirement already satisfied: google-cloud-core<3.0dev,>=1.6.0 in /opt/conda/lib/python3.7/site-packages (from google-cloud-storage) (2.2.2)\n",
      "Requirement already satisfied: google-resumable-media<3.0dev,>=1.3.0 in /opt/conda/lib/python3.7/site-packages (from google-cloud-storage) (2.1.0)\n",
      "Requirement already satisfied: protobuf in /opt/conda/lib/python3.7/site-packages (from google-cloud-storage) (3.19.4)\n",
      "Requirement already satisfied: google-auth<3.0dev,>=1.25.0 in /opt/conda/lib/python3.7/site-packages (from google-cloud-storage) (2.6.0)\n",
      "Requirement already satisfied: six in /opt/conda/lib/python3.7/site-packages (from google-cloud-storage) (1.16.0)\n",
      "Requirement already satisfied: requests<3.0.0dev,>=2.18.0 in /opt/conda/lib/python3.7/site-packages (from google-cloud-storage) (2.27.1)\n",
      "Requirement already satisfied: setuptools>=40.3.0 in /opt/conda/lib/python3.7/site-packages (from google-api-core[grpc]<3.0.0dev,>=1.26.0->google-cloud-aiplatform) (59.8.0)\n",
      "Requirement already satisfied: googleapis-common-protos<2.0dev,>=1.52.0 in /opt/conda/lib/python3.7/site-packages (from google-api-core[grpc]<3.0.0dev,>=1.26.0->google-cloud-aiplatform) (1.54.0)\n",
      "Requirement already satisfied: grpcio-status<2.0dev,>=1.33.2 in /opt/conda/lib/python3.7/site-packages (from google-api-core[grpc]<3.0.0dev,>=1.26.0->google-cloud-aiplatform) (1.43.0)\n",
      "Requirement already satisfied: grpcio<2.0dev,>=1.33.2 in /opt/conda/lib/python3.7/site-packages (from google-api-core[grpc]<3.0.0dev,>=1.26.0->google-cloud-aiplatform) (1.43.0)\n",
      "Requirement already satisfied: cachetools<6.0,>=2.0.0 in /opt/conda/lib/python3.7/site-packages (from google-auth<3.0dev,>=1.25.0->google-cloud-storage) (4.2.4)\n",
      "Requirement already satisfied: rsa<5,>=3.1.4 in /opt/conda/lib/python3.7/site-packages (from google-auth<3.0dev,>=1.25.0->google-cloud-storage) (4.8)\n",
      "Requirement already satisfied: pyasn1-modules>=0.2.1 in /opt/conda/lib/python3.7/site-packages (from google-auth<3.0dev,>=1.25.0->google-cloud-storage) (0.2.7)\n",
      "Requirement already satisfied: python-dateutil<3.0dev,>=2.7.2 in /opt/conda/lib/python3.7/site-packages (from google-cloud-bigquery<3.0.0dev,>=1.15.0->google-cloud-aiplatform) (2.8.2)\n",
      "Requirement already satisfied: google-crc32c<2.0dev,>=1.0 in /opt/conda/lib/python3.7/site-packages (from google-resumable-media<3.0dev,>=1.3.0->google-cloud-storage) (1.1.2)\n",
      "Requirement already satisfied: pyparsing!=3.0.5,>=2.0.2 in /opt/conda/lib/python3.7/site-packages (from packaging>=14.3->google-cloud-aiplatform) (3.0.7)\n",
      "Requirement already satisfied: idna<4,>=2.5 in /opt/conda/lib/python3.7/site-packages (from requests<3.0.0dev,>=2.18.0->google-cloud-storage) (3.3)\n",
      "Requirement already satisfied: charset-normalizer~=2.0.0 in /opt/conda/lib/python3.7/site-packages (from requests<3.0.0dev,>=2.18.0->google-cloud-storage) (2.0.11)\n",
      "Requirement already satisfied: certifi>=2017.4.17 in /opt/conda/lib/python3.7/site-packages (from requests<3.0.0dev,>=2.18.0->google-cloud-storage) (2021.10.8)\n",
      "Requirement already satisfied: urllib3<1.27,>=1.21.1 in /opt/conda/lib/python3.7/site-packages (from requests<3.0.0dev,>=2.18.0->google-cloud-storage) (1.26.8)\n",
      "Requirement already satisfied: cffi>=1.0.0 in /opt/conda/lib/python3.7/site-packages (from google-crc32c<2.0dev,>=1.0->google-resumable-media<3.0dev,>=1.3.0->google-cloud-storage) (1.15.0)\n",
      "Requirement already satisfied: pyasn1<0.5.0,>=0.4.6 in /opt/conda/lib/python3.7/site-packages (from pyasn1-modules>=0.2.1->google-auth<3.0dev,>=1.25.0->google-cloud-storage) (0.4.8)\n",
      "Requirement already satisfied: pycparser in /opt/conda/lib/python3.7/site-packages (from cffi>=1.0.0->google-crc32c<2.0dev,>=1.0->google-resumable-media<3.0dev,>=1.3.0->google-cloud-storage) (2.21)\n",
      "Installing collected packages: google-cloud-storage\n",
      "  Attempting uninstall: google-cloud-storage\n",
      "    Found existing installation: google-cloud-storage 2.0.0\n",
      "    Uninstalling google-cloud-storage-2.0.0:\n",
      "      Successfully uninstalled google-cloud-storage-2.0.0\n",
      "Successfully installed google-cloud-storage-1.44.0\n"
     ]
    }
   ],
   "source": [
    "! pip install google-cloud-aiplatform google-cloud-storage"
   ]
  },
  {
   "cell_type": "code",
   "execution_count": 2,
   "id": "3e5cef86-7c4a-409a-bf54-7746ccca39fc",
   "metadata": {},
   "outputs": [],
   "source": [
    "from google.cloud import aiplatform as aip\n",
    "from google.cloud import storage"
   ]
  },
  {
   "cell_type": "code",
   "execution_count": 9,
   "id": "e5afbdfb-d750-4e0e-a43d-93252357a943",
   "metadata": {},
   "outputs": [
    {
     "name": "stdout",
     "output_type": "stream",
     "text": [
      "aggie-data-science-demo\n"
     ]
    }
   ],
   "source": [
    "PROJECT_ID = !gcloud config get-value project\n",
    "PROJECT_ID = PROJECT_ID[0]\n",
    "\n",
    "print(PROJECT_ID)\n",
    "\n",
    "LOCATION = \"us-central1\"\n",
    "\n",
    "aip.init(project=PROJECT_ID, location=LOCATION)"
   ]
  },
  {
   "cell_type": "markdown",
   "id": "0abd3413-5c84-4d14-a998-0efeff1dfc2b",
   "metadata": {},
   "source": [
    "## Define and import dataset\n",
    "\n",
    "1. Create manifest file.\n",
    "2. Save manifest file to Google Cloud Storage.\n",
    "3. Import dataset.\n",
    "\n",
    "Dataset uses the JSONL format. Each line must have the following JSON object:\n",
    "\n",
    "```\n",
    "{\n",
    "    \"imageGcsUri\": \"GCS_URI\",\n",
    "    \"classificationAnnotation\": {\n",
    "        \"displayName\": \"LABEL\"\n",
    "    }\n",
    "}\n",
    "```"
   ]
  },
  {
   "cell_type": "code",
   "execution_count": 13,
   "id": "1c45e610-f2ba-40cd-8bd9-589ba73e0f9a",
   "metadata": {},
   "outputs": [],
   "source": [
    "# Create our training data\n",
    "training_data = []\n",
    "\n",
    "for n in range(1, 1001):\n",
    "    training_data.append({\n",
    "        \"imageGcsUri\": f\"gs://2022-03-01-aggie-demo/train_transformed/cat{n}.jpg\",\n",
    "        \"classificationAnnotation\": {\n",
    "            \"displayName\": \"cat\"\n",
    "        }\n",
    "    })\n",
    "    training_data.append({\n",
    "        \"imageGcsUri\": f\"gs://2022-03-01-aggie-demo/train_transformed/dog{n}.jpg\",\n",
    "        \"classificationAnnotation\": {\n",
    "            \"displayName\": \"dog\"\n",
    "        }\n",
    "    })\n"
   ]
  },
  {
   "cell_type": "code",
   "execution_count": 17,
   "id": "23691c04-fe0f-4797-9342-679adb4e7436",
   "metadata": {},
   "outputs": [],
   "source": [
    "# Save the training data as file in Cloud Storage\n",
    "bucket = storage.bucket(\"2022-03-01-aggie-demo\")\n",
    "input_str = \"\\n\".join([str(d) for d in training_data])\n",
    "file_blob = bucket.blob(\"training_data.jsonl\")\n",
    "file_blob.upload_from_string(input_str)"
   ]
  },
  {
   "cell_type": "code",
   "execution_count": 18,
   "id": "7526e59c-1e34-4761-8de0-f0b2616003e8",
   "metadata": {},
   "outputs": [
    {
     "name": "stdout",
     "output_type": "stream",
     "text": [
      "INFO:google.cloud.aiplatform.datasets.dataset:Creating ImageDataset\n",
      "INFO:google.cloud.aiplatform.datasets.dataset:Create ImageDataset backing LRO: projects/1017734441775/locations/us-central1/datasets/6929302598151307264/operations/5134214144840433664\n",
      "INFO:google.cloud.aiplatform.datasets.dataset:ImageDataset created. Resource name: projects/1017734441775/locations/us-central1/datasets/6929302598151307264\n",
      "INFO:google.cloud.aiplatform.datasets.dataset:To use this ImageDataset in another session:\n",
      "INFO:google.cloud.aiplatform.datasets.dataset:ds = aiplatform.ImageDataset('projects/1017734441775/locations/us-central1/datasets/6929302598151307264')\n",
      "INFO:google.cloud.aiplatform.datasets.dataset:Importing ImageDataset data: projects/1017734441775/locations/us-central1/datasets/6929302598151307264\n",
      "INFO:google.cloud.aiplatform.datasets.dataset:Import ImageDataset data backing LRO: projects/1017734441775/locations/us-central1/datasets/6929302598151307264/operations/2675037642063609856\n",
      "INFO:google.cloud.aiplatform.datasets.dataset:ImageDataset data imported. Resource name: projects/1017734441775/locations/us-central1/datasets/6929302598151307264\n"
     ]
    }
   ],
   "source": [
    "# Create the image classification dataset\n",
    "dataset = aip.ImageDataset.create(\n",
    "    display_name=\"2022-03-01-aggie-demo\",\n",
    "    gcs_source=[\"gs://2022-03-01-aggie-demo/training_data.jsonl\"],\n",
    "    import_schema_uri=aip.schema.dataset.ioformat.image.single_label_classification,\n",
    "    sync=True\n",
    ")\n",
    "\n",
    "dataset.wait()"
   ]
  },
  {
   "cell_type": "markdown",
   "id": "6633786e-9af4-4269-b9db-080ca3624302",
   "metadata": {},
   "source": [
    "## Train the model"
   ]
  },
  {
   "cell_type": "code",
   "execution_count": null,
   "id": "dc71f310-2a9a-43dd-a9b5-de97deb06188",
   "metadata": {},
   "outputs": [],
   "source": [
    "img_dataset_id = \"\"\n",
    "img_dataset = aip.ImageDataset(img_dataset_id)"
   ]
  },
  {
   "cell_type": "code",
   "execution_count": 20,
   "id": "917f0238-5ec5-4b20-bd41-ff6aa370723f",
   "metadata": {},
   "outputs": [
    {
     "name": "stdout",
     "output_type": "stream",
     "text": [
      "INFO:google.cloud.aiplatform.training_jobs:No dataset split provided. The service will use a default split.\n",
      "INFO:google.cloud.aiplatform.training_jobs:View Training:\n",
      "https://console.cloud.google.com/ai/platform/locations/us-central1/training/3329944631998676992?project=1017734441775\n",
      "INFO:google.cloud.aiplatform.training_jobs:AutoMLImageTrainingJob projects/1017734441775/locations/us-central1/trainingPipelines/3329944631998676992 current state:\n",
      "PipelineState.PIPELINE_STATE_PENDING\n",
      "INFO:google.cloud.aiplatform.training_jobs:AutoMLImageTrainingJob projects/1017734441775/locations/us-central1/trainingPipelines/3329944631998676992 current state:\n",
      "PipelineState.PIPELINE_STATE_PENDING\n",
      "INFO:google.cloud.aiplatform.training_jobs:AutoMLImageTrainingJob projects/1017734441775/locations/us-central1/trainingPipelines/3329944631998676992 current state:\n",
      "PipelineState.PIPELINE_STATE_RUNNING\n",
      "INFO:google.cloud.aiplatform.training_jobs:AutoMLImageTrainingJob projects/1017734441775/locations/us-central1/trainingPipelines/3329944631998676992 current state:\n",
      "PipelineState.PIPELINE_STATE_RUNNING\n",
      "INFO:google.cloud.aiplatform.training_jobs:AutoMLImageTrainingJob projects/1017734441775/locations/us-central1/trainingPipelines/3329944631998676992 current state:\n",
      "PipelineState.PIPELINE_STATE_RUNNING\n",
      "INFO:google.cloud.aiplatform.training_jobs:AutoMLImageTrainingJob projects/1017734441775/locations/us-central1/trainingPipelines/3329944631998676992 current state:\n",
      "PipelineState.PIPELINE_STATE_RUNNING\n",
      "INFO:google.cloud.aiplatform.training_jobs:AutoMLImageTrainingJob projects/1017734441775/locations/us-central1/trainingPipelines/3329944631998676992 current state:\n",
      "PipelineState.PIPELINE_STATE_RUNNING\n",
      "INFO:google.cloud.aiplatform.training_jobs:AutoMLImageTrainingJob projects/1017734441775/locations/us-central1/trainingPipelines/3329944631998676992 current state:\n",
      "PipelineState.PIPELINE_STATE_RUNNING\n",
      "INFO:google.cloud.aiplatform.training_jobs:AutoMLImageTrainingJob projects/1017734441775/locations/us-central1/trainingPipelines/3329944631998676992 current state:\n",
      "PipelineState.PIPELINE_STATE_RUNNING\n",
      "INFO:google.cloud.aiplatform.training_jobs:AutoMLImageTrainingJob run completed. Resource name: projects/1017734441775/locations/us-central1/trainingPipelines/3329944631998676992\n",
      "INFO:google.cloud.aiplatform.training_jobs:Model available at projects/1017734441775/locations/us-central1/models/4930003430761562112\n"
     ]
    }
   ],
   "source": [
    "# Create the training job\n",
    "job = aip.AutoMLImageTrainingJob(\n",
    "    display_name=\"cats-and-dogs-training\",\n",
    "    model_type=\"CLOUD\",\n",
    "    prediction_type=\"classification\",\n",
    "    multi_label=False,\n",
    ")\n",
    "\n",
    "model = job.run(\n",
    "    dataset=dataset,\n",
    "    model_display_name=\"cats-and-dogs-model\",\n",
    "    budget_milli_node_hours=8000,\n",
    "    disable_early_stopping=False,\n",
    "    sync=True\n",
    ")\n",
    "\n",
    "model.wait()"
   ]
  },
  {
   "cell_type": "markdown",
   "id": "1a3495ff-1ae8-4fe9-9b33-43b46a4570b7",
   "metadata": {},
   "source": [
    "## Get an online prediction\n",
    "\n",
    "1. Create an endpoint.\n",
    "2. Deploy our model to the endpoint.\n",
    "3. Get prediction!"
   ]
  },
  {
   "cell_type": "code",
   "execution_count": 21,
   "id": "bbe27d8f-d386-48f0-b894-766c58d7351d",
   "metadata": {},
   "outputs": [
    {
     "name": "stdout",
     "output_type": "stream",
     "text": [
      "INFO:google.cloud.aiplatform.models:Creating Endpoint\n",
      "INFO:google.cloud.aiplatform.models:Create Endpoint backing LRO: projects/1017734441775/locations/us-central1/endpoints/1143113860887085056/operations/3628604494415134720\n",
      "INFO:google.cloud.aiplatform.models:Endpoint created. Resource name: projects/1017734441775/locations/us-central1/endpoints/1143113860887085056\n",
      "INFO:google.cloud.aiplatform.models:To use this Endpoint in another session:\n",
      "INFO:google.cloud.aiplatform.models:endpoint = aiplatform.Endpoint('projects/1017734441775/locations/us-central1/endpoints/1143113860887085056')\n",
      "INFO:google.cloud.aiplatform.models:Deploying model to Endpoint : projects/1017734441775/locations/us-central1/endpoints/1143113860887085056\n",
      "INFO:google.cloud.aiplatform.models:Deploy Endpoint model backing LRO: projects/1017734441775/locations/us-central1/endpoints/1143113860887085056/operations/8240290512842522624\n",
      "INFO:google.cloud.aiplatform.models:Endpoint model deployed. Resource name: projects/1017734441775/locations/us-central1/endpoints/1143113860887085056\n"
     ]
    }
   ],
   "source": [
    "# Create an endpoint and deploy your model to it\n",
    "endpoint = model.deploy(\n",
    "    deployed_model_display_name=\"cats-dogs-endpoint\", sync=True\n",
    ")"
   ]
  },
  {
   "cell_type": "code",
   "execution_count": 25,
   "id": "3e71eb16-86ea-4b03-aed4-b2dd75db19dd",
   "metadata": {},
   "outputs": [
    {
     "name": "stdout",
     "output_type": "stream",
     "text": [
      "Prediction ID: 1168482342918946816\n",
      "Prediction display name: cat\n",
      "Prediction confidence score: 1.0\n",
      "Prediction ID: 5780168361346334720\n",
      "Prediction display name: dog\n",
      "Prediction confidence score: 4.0125416e-12\n"
     ]
    }
   ],
   "source": [
    "# Get a prediction!\n",
    "import base64\n",
    "\n",
    "with open(\"brave_small.jpg\", \"rb\") as f:\n",
    "    file_content = f.read()\n",
    "    \n",
    "encoded_content = base64.b64encode(file_content).decode(\"utf-8\")\n",
    "response = endpoint.predict(instances=[{\"content\": encoded_content}])\n",
    "\n",
    "for prediction_ in response.predictions:\n",
    "    ids = prediction_[\"ids\"]\n",
    "    display_names = prediction_[\"displayNames\"]\n",
    "    confidence_scores = prediction_[\"confidences\"]\n",
    "    for count, id in enumerate(ids):\n",
    "        print(f\"Prediction ID: {id}\")\n",
    "        print(f\"Prediction display name: {display_names[count]}\")\n",
    "        print(f\"Prediction confidence score: {confidence_scores[count]}\")"
   ]
  }
 ],
 "metadata": {
  "environment": {
   "kernel": "python3",
   "name": "tf2-gpu.2-6.m89",
   "type": "gcloud",
   "uri": "gcr.io/deeplearning-platform-release/tf2-gpu.2-6:m89"
  },
  "kernelspec": {
   "display_name": "Python 3",
   "language": "python",
   "name": "python3"
  },
  "language_info": {
   "codemirror_mode": {
    "name": "ipython",
    "version": 3
   },
   "file_extension": ".py",
   "mimetype": "text/x-python",
   "name": "python",
   "nbconvert_exporter": "python",
   "pygments_lexer": "ipython3",
   "version": "3.7.12"
  }
 },
 "nbformat": 4,
 "nbformat_minor": 5
}
